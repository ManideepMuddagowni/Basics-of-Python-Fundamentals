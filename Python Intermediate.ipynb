{
 "cells": [
  {
   "cell_type": "markdown",
   "metadata": {},
   "source": [
    "### 1. Lists\n",
    "\n",
    "            i) Lists are mutable or changable\n",
    "            ii) Lists are created using square brackets []\n",
    "            iii) Each element in a list is called ITEM\n",
    "            iv) Lists can contain anything.\n",
    "            \n",
    "### In-built Functions and important topics\n",
    "\n",
    "      -> Checking lenth of the string len(my_list)\n",
    "      -> To add use .append method\n",
    "      -> Adding element in particular position use .insert method\n",
    "      -> To remove element use .pop or . remove methods\n",
    "      -> To remove specific element use .pop my_list.pop(2)\n",
    "      -> To print in sequence use .sort method mylist.sort()\n",
    "      -> Slicing and .copy() method\n",
    "      -> List Comprehension"
   ]
  },
  {
   "cell_type": "code",
   "execution_count": 1,
   "metadata": {},
   "outputs": [
    {
     "name": "stdout",
     "output_type": "stream",
     "text": [
      "['banana', 'apple', 'cherry']\n"
     ]
    }
   ],
   "source": [
    "my_list = [\"banana\", \"apple\", \"cherry\"]\n",
    "print(my_list)"
   ]
  },
  {
   "cell_type": "code",
   "execution_count": 2,
   "metadata": {},
   "outputs": [
    {
     "name": "stdout",
     "output_type": "stream",
     "text": [
      "banana\n",
      "apple\n",
      "cherry\n"
     ]
    }
   ],
   "source": [
    "for i in my_list:\n",
    "    print(i)"
   ]
  },
  {
   "cell_type": "code",
   "execution_count": 3,
   "metadata": {},
   "outputs": [
    {
     "name": "stdout",
     "output_type": "stream",
     "text": [
      "True\n"
     ]
    }
   ],
   "source": [
    "##check for item\n",
    "if \"banana\" in my_list:\n",
    "    print(\"True\")\n",
    "else:\n",
    "    print(\"False\")"
   ]
  },
  {
   "cell_type": "code",
   "execution_count": 4,
   "metadata": {},
   "outputs": [
    {
     "name": "stdout",
     "output_type": "stream",
     "text": [
      "['banana', 'apple', 'cherry', 'lemon']\n",
      "['banana', 'blueberry', 'apple', 'cherry', 'lemon']\n"
     ]
    },
    {
     "data": {
      "text/plain": [
       "'lemon'"
      ]
     },
     "execution_count": 4,
     "metadata": {},
     "output_type": "execute_result"
    }
   ],
   "source": [
    "### checking lenth of the string\n",
    "len(my_list)\n",
    "### to add use .append method\n",
    "my_list.append(\"lemon\")\n",
    "print(my_list)\n",
    "### adding element in particular position use .insert method\n",
    "my_list.insert(1, \"blueberry\")\n",
    "print(my_list)\n",
    "### to remove element use .pop or . remove methods\n",
    "my_list.pop()"
   ]
  },
  {
   "cell_type": "code",
   "execution_count": 5,
   "metadata": {},
   "outputs": [
    {
     "data": {
      "text/plain": [
       "'apple'"
      ]
     },
     "execution_count": 5,
     "metadata": {},
     "output_type": "execute_result"
    }
   ],
   "source": [
    "### to remove specific element use .pop\n",
    "my_list.pop(2)"
   ]
  },
  {
   "cell_type": "code",
   "execution_count": 6,
   "metadata": {},
   "outputs": [
    {
     "name": "stdout",
     "output_type": "stream",
     "text": [
      "['banana', 'blueberry', 'cherry']\n"
     ]
    }
   ],
   "source": [
    "print(my_list)"
   ]
  },
  {
   "cell_type": "code",
   "execution_count": 7,
   "metadata": {},
   "outputs": [
    {
     "name": "stdout",
     "output_type": "stream",
     "text": [
      "[1, 2, 3, 4]\n"
     ]
    }
   ],
   "source": [
    "mylist = [4,3,2,1]\n",
    "\n",
    "#### to print in sequence use .sort method\n",
    "mylist.sort()\n",
    "print(mylist)"
   ]
  },
  {
   "cell_type": "code",
   "execution_count": 8,
   "metadata": {},
   "outputs": [
    {
     "name": "stdout",
     "output_type": "stream",
     "text": [
      "[2, 3, 4, 5]\n",
      "[2, 3, 4, 5, 6, 7]\n",
      "[7, 6, 5, 4, 3, 2, 1]\n",
      "[1, 2, 3, 4, 5, 6, 7]\n",
      "[1, 3, 5, 7]\n",
      "['banana', 'apple', 'cherry']\n",
      "['banana', 'apple', 'cherry', 'lemon']\n"
     ]
    }
   ],
   "source": [
    "### Slicing\n",
    "\n",
    "mylist = [1,2,3,4,5,6,7]\n",
    "a = mylist[1:5]\n",
    "print(a)\n",
    "\n",
    "### if we don't specify stop index\n",
    "a=mylist[1:]\n",
    "print(a)\n",
    "\n",
    "### optional step index or arugement to reverse your list\n",
    "b=mylist[::-1]\n",
    "print(b)\n",
    "\n",
    "c=mylist[0:]\n",
    "print(c)\n",
    "\n",
    "### it will take every second element\n",
    "d= mylist[::2]\n",
    "print(d)\n",
    "\n",
    "### .copy method or slicing method or list method\n",
    "list = [\"banana\", \"apple\", \"cherry\"]\n",
    "\n",
    "### we can use list function or slicing [:] or copy method\n",
    "\n",
    "list_cpy = list.copy()\n",
    "list_cpy.append(\"lemon\")\n",
    "print(list)\n",
    "print(list_cpy)"
   ]
  },
  {
   "cell_type": "code",
   "execution_count": 9,
   "metadata": {},
   "outputs": [
    {
     "name": "stdout",
     "output_type": "stream",
     "text": [
      "[1, 2, 3, 4, 5, 6, 7]\n",
      "[1, 4, 9, 16, 25, 36, 49]\n"
     ]
    }
   ],
   "source": [
    "### List Comprehension\n",
    "\n",
    "mylist =[1,2,3,4,5,6,7]\n",
    "b =[x*x for x in mylist] ### or b = [i*i for in mylist]\n",
    "\n",
    "print(mylist)\n",
    "print(b)"
   ]
  },
  {
   "cell_type": "markdown",
   "metadata": {},
   "source": [
    "### 2.Tuples\n",
    "\n",
    "          i) You cannot change data in tuple\n",
    "         ii) You can completely change list but not a single item\n",
    "         \n",
    "### Inbuilt functions and important topics\n",
    "\n",
    "            -> Use tuple inbuilt function to show data as tuple\n",
    "            -> To check lenght of mytuple use len() method\n",
    "            -> To count the letters in mytuple use .count() method\n",
    "            -> To check index we use .index() method"
   ]
  },
  {
   "cell_type": "code",
   "execution_count": 10,
   "metadata": {},
   "outputs": [
    {
     "name": "stdout",
     "output_type": "stream",
     "text": [
      "['max', 28, 'boston']\n"
     ]
    },
    {
     "data": {
      "text/plain": [
       "list"
      ]
     },
     "execution_count": 10,
     "metadata": {},
     "output_type": "execute_result"
    }
   ],
   "source": [
    "mytuple =([\"max\", 28, \"boston\"])\n",
    "print(mytuple)\n",
    "### it will show as list\n",
    "type(mytuple)"
   ]
  },
  {
   "cell_type": "code",
   "execution_count": 11,
   "metadata": {},
   "outputs": [
    {
     "name": "stdout",
     "output_type": "stream",
     "text": [
      "('max', 28, 'boston')\n",
      "(28, 'boston')\n",
      "('boston', 28, 'max')\n"
     ]
    }
   ],
   "source": [
    "### here we use tuple inbuilt function\n",
    "\n",
    "mytuple =tuple([\"max\", 28, \"boston\"])\n",
    "print(mytuple)\n",
    "type(mytuple)\n",
    "\n",
    "index = mytuple[1:]\n",
    "print(index)\n",
    "\n",
    "index = mytuple[::-1]\n",
    "print(index)"
   ]
  },
  {
   "cell_type": "code",
   "execution_count": 12,
   "metadata": {},
   "outputs": [
    {
     "name": "stdout",
     "output_type": "stream",
     "text": [
      "max\n",
      "28\n",
      "boston\n"
     ]
    }
   ],
   "source": [
    "### using forloops\n",
    "for i in mytuple:\n",
    "    print(i)"
   ]
  },
  {
   "cell_type": "code",
   "execution_count": 13,
   "metadata": {},
   "outputs": [
    {
     "name": "stdout",
     "output_type": "stream",
     "text": [
      "yes\n",
      "no\n"
     ]
    }
   ],
   "source": [
    "### if data is present\n",
    "\n",
    "if \"boston\" in mytuple:\n",
    "    print (\"yes\")\n",
    "else:\n",
    "    print(\"no\")\n",
    "\n",
    "### if data is not present\n",
    "\n",
    "if \"newyork\" in mytuple:\n",
    "    print (\"yes\")\n",
    "else:\n",
    "    print(\"no\")"
   ]
  },
  {
   "cell_type": "code",
   "execution_count": 14,
   "metadata": {},
   "outputs": [
    {
     "name": "stdout",
     "output_type": "stream",
     "text": [
      "2\n",
      "1\n",
      "0\n",
      "5\n"
     ]
    }
   ],
   "source": [
    "### to check lenght of mytuple use len() method\n",
    "\n",
    "len(mytuple)\n",
    "\n",
    "### to count the letters in mytuple use .count() method\n",
    "mytuple = (\"boston\")\n",
    "print(mytuple.count('o'))\n",
    "\n",
    "print(mytuple.count('b'))\n",
    "\n",
    "### To check index we use .index() method\n",
    "### How to check index\n",
    "### (boston) index will be b=0 , o= 1, s=2, t=3, o=4, n=5 \n",
    "\n",
    "print(mytuple.index('b'))\n",
    "\n",
    "print(mytuple.index('n'))"
   ]
  },
  {
   "cell_type": "code",
   "execution_count": 15,
   "metadata": {},
   "outputs": [
    {
     "name": "stdout",
     "output_type": "stream",
     "text": [
      "(3, 4, 5)\n",
      "(4, 5)\n"
     ]
    }
   ],
   "source": [
    "### Slicing with tuples\n",
    "\n",
    "a = (1,2,3,4,5,6,7)\n",
    "\n",
    "b = a[2:5]\n",
    "print(b)\n",
    "\n",
    "b = a[3:5]\n",
    "print(b)\n"
   ]
  },
  {
   "cell_type": "markdown",
   "metadata": {},
   "source": [
    "### 3.Dictionary\n",
    "\n",
    "                i) A dictionary is a collection which is changeble, unordered and indexed.\n",
    "               ii) Created with curly braces{}\n",
    "              iii) You have Key Value pairs              \n",
    "              \n",
    "### Important Points\n",
    "\n",
    "               -> For deleting items use popitem() or pop(\"name\")\n",
    "               -> For update dictionary we use .update() method"
   ]
  },
  {
   "cell_type": "code",
   "execution_count": 16,
   "metadata": {},
   "outputs": [
    {
     "name": "stdout",
     "output_type": "stream",
     "text": [
      "{'name': 'manideep', 'age': 24, 'job': 'software developer'}\n"
     ]
    }
   ],
   "source": [
    "mydict ={\"name\": \"manideep\", \"age\": 24, \"job\":\"software developer\"}\n",
    "print(mydict)"
   ]
  },
  {
   "cell_type": "code",
   "execution_count": 17,
   "metadata": {},
   "outputs": [
    {
     "name": "stdout",
     "output_type": "stream",
     "text": [
      "manideep\n"
     ]
    }
   ],
   "source": [
    "keyvalue = mydict[\"name\"]\n",
    "print(keyvalue)"
   ]
  },
  {
   "cell_type": "code",
   "execution_count": 18,
   "metadata": {},
   "outputs": [
    {
     "name": "stdout",
     "output_type": "stream",
     "text": [
      "{'name': 'manideep', 'age': 24, 'job': 'software developer', 'email': 'mani@md.com'}\n"
     ]
    }
   ],
   "source": [
    "### Adding data to mydict\n",
    "mydict[\"email\"] = \"mani@md.com\"\n",
    "print(mydict)"
   ]
  },
  {
   "cell_type": "code",
   "execution_count": 19,
   "metadata": {},
   "outputs": [
    {
     "name": "stdout",
     "output_type": "stream",
     "text": [
      "{'name': 'manideep', 'age': 24, 'job': 'software developer'}\n"
     ]
    }
   ],
   "source": [
    "### for deleting items use popitem()\n",
    "mydict.popitem()\n",
    "print(mydict)"
   ]
  },
  {
   "cell_type": "code",
   "execution_count": 20,
   "metadata": {},
   "outputs": [
    {
     "name": "stdout",
     "output_type": "stream",
     "text": [
      "name manideep\n",
      "age 24\n",
      "job software developer\n"
     ]
    }
   ],
   "source": [
    "for key, value in mydict.items():\n",
    "    print(key, value)"
   ]
  },
  {
   "cell_type": "code",
   "execution_count": 21,
   "metadata": {},
   "outputs": [
    {
     "name": "stdout",
     "output_type": "stream",
     "text": [
      "('Pete', {'Age': 51, 'Job': 'Cook'})\n",
      "('John', {'Age': 32, 'Job': 'Gardener'})\n",
      "('Jim', {'Age': 45, 'Job': 'Cook'})\n",
      "('Sheila', {'Age': 19, 'Job': 'Clerk'})\n",
      "('Carol', {'Age': 67, 'Job': 'Gardener'})\n",
      "('Richard', {'Age': 17, 'Job': 'Clerk'})\n"
     ]
    }
   ],
   "source": [
    "people = {'Pete': {'Age': 51,'Job': 'Cook'},'John': {'Age': 32,'Job': 'Gardener'},'Jim': {'Age': 45,'Job': 'Cook'},'Sheila': {'Age': 19,'Job': 'Clerk'},\n",
    "        'Carol': {'Age': 67,'Job': 'Gardener'},'Richard': {'Age': 17,'Job': 'Clerk'}}\n",
    "\n",
    "for i in people.items():\n",
    "    print(i)"
   ]
  },
  {
   "cell_type": "code",
   "execution_count": 22,
   "metadata": {},
   "outputs": [
    {
     "name": "stdout",
     "output_type": "stream",
     "text": [
      "{'name': 'manideep', 'age': 24, 'city': 'london', 'job': 'software developer'}\n"
     ]
    }
   ],
   "source": [
    "my_dict = {\"name\": \"manideep\", \"age\": 24, \"job\":\"software developer\"}\n",
    "\n",
    "### Dict function is used for \n",
    "my_dict_2 = dict(name=\"mary\", age= 24, city = \"london\")\n",
    "\n",
    "### For update dictionary we use .update() method\n",
    "my_dict_2.update(my_dict)\n",
    "print(my_dict_2)"
   ]
  },
  {
   "cell_type": "markdown",
   "metadata": {},
   "source": [
    "### 4.Sets\n",
    "\n",
    "              i) A set is an unordered collection of data type that is changble or mutable\n",
    "             ii) It has no duplicate elements.\n",
    "            iii) It is represented by {}\n",
    "            \n",
    "### Built-in functions and important points\n",
    "\n",
    "            ->  Set is a function\n",
    "            -> .pop or .remove to delete data\n",
    "            -> .add method is used to add data later in the set\n",
    "            -> .union method (adds elements in both the sets)\n",
    "            -> .intersection method ( gives common elements from both the sets)\n",
    "            -> .difference method (Shows unrepeated elements)\n",
    "            -> frozenset method ( data cannot be changed)\n",
    "            -> symmetric_difference method ( shows uncommon elements from both the sets)\n",
    "            -> .update_method like .intersection_update, .difference_update will update the data in sets.\n",
    "            -> .issubset ( ALL THE ELEMENTS PRESENT IN FIRST SET AND SECOND SET ARE SAME)\n",
    "            -> .issuperset ( all the elements in first set will be in second set also)"
   ]
  },
  {
   "cell_type": "code",
   "execution_count": 23,
   "metadata": {},
   "outputs": [
    {
     "name": "stdout",
     "output_type": "stream",
     "text": [
      "{1, 2, 3, 4, 5, 6, 7}\n"
     ]
    }
   ],
   "source": [
    "### printing no duplicate elements\n",
    "\n",
    "my_set = {1,2,3,4,5,6,7,7,}\n",
    "print(my_set)"
   ]
  },
  {
   "cell_type": "code",
   "execution_count": 24,
   "metadata": {},
   "outputs": [
    {
     "name": "stdout",
     "output_type": "stream",
     "text": [
      "{'e', 'l', 'o', 'h'}\n",
      "{1, 2, 3, 4}\n",
      "1\n",
      "2\n",
      "3\n",
      "4\n"
     ]
    }
   ],
   "source": [
    "### unordered collection of data\n",
    "\n",
    "myset = set(\"hello\")\n",
    "print(myset)\n",
    "\n",
    "### creating empty set\n",
    "### using set function is more important\n",
    "my_set = set()\n",
    "\n",
    "### adding data later\n",
    "my_set.add(1)\n",
    "my_set.add(2)\n",
    "my_set.add(3)\n",
    "my_set.add(4)\n",
    "\n",
    "print(my_set)\n",
    "### using for loop\n",
    "for i in my_set:\n",
    "    print(i)"
   ]
  },
  {
   "cell_type": "code",
   "execution_count": 25,
   "metadata": {},
   "outputs": [
    {
     "name": "stdout",
     "output_type": "stream",
     "text": [
      "{0, 1, 2, 3, 4, 5, 6, 7, 8}\n"
     ]
    }
   ],
   "source": [
    "### using .union method (adds elements in both the sets)\n",
    "\n",
    "odds = {1,3,5,7}\n",
    "evens = {0,2,4,6,8}\n",
    "primes = {2,3,5,7}\n",
    "\n",
    "u = odds.union(evens)\n",
    "print(u)"
   ]
  },
  {
   "cell_type": "code",
   "execution_count": 26,
   "metadata": {},
   "outputs": [
    {
     "name": "stdout",
     "output_type": "stream",
     "text": [
      "{3, 5, 7}\n",
      "set()\n"
     ]
    }
   ],
   "source": [
    "### using .intersection method ( gives common elements from both the sets)\n",
    "\n",
    "i = odds.intersection(primes)\n",
    "print(i)\n",
    "\n",
    "### gives empty sets because no common elements in odds and evens\n",
    "\n",
    "i_1 = odds.intersection(evens)\n",
    "print(i_1)"
   ]
  },
  {
   "cell_type": "code",
   "execution_count": 27,
   "metadata": {},
   "outputs": [
    {
     "name": "stdout",
     "output_type": "stream",
     "text": [
      "{10, 11, 12}\n",
      "{4, 5, 6, 7, 8}\n",
      "{4, 5, 6, 7, 8, 10, 11, 12}\n",
      "{4, 5, 6, 7, 8}\n",
      "set()\n"
     ]
    }
   ],
   "source": [
    "### .difference method shows unrepeated elements\n",
    "\n",
    "setA = {1,2,3,4,5,6,7,8}\n",
    "setB = {1,2,3,10,11,12}\n",
    "\n",
    "### setB difference\n",
    "diff = setB.difference(setA)\n",
    "print(diff)\n",
    "\n",
    "### setA difference\n",
    "diff1 = setA.difference(setB)\n",
    "print(diff1)\n",
    "\n",
    "### symmetric_difference method ( shows uncommon elements from both the sets)\n",
    "\n",
    "diff2 = setA.symmetric_difference(setB)\n",
    "print(diff2)\n",
    "\n",
    "### update\n",
    "\n",
    "setA.difference_update(setB)\n",
    "print(setA)\n",
    "\n",
    "###\n",
    "\n",
    "setB.intersection_update(setA)\n",
    "print(setB)\n"
   ]
  },
  {
   "cell_type": "code",
   "execution_count": 28,
   "metadata": {},
   "outputs": [
    {
     "name": "stdout",
     "output_type": "stream",
     "text": [
      "True\n",
      "True\n"
     ]
    }
   ],
   "source": [
    "### .issubset ( ALL THE ELEMENTS PRESENT IN FIRST SET AND SECOND SET ARE SAME)\n",
    "print(setA.issubset(setA))\n",
    "\n",
    "print(setB.issubset(setA))"
   ]
  },
  {
   "cell_type": "markdown",
   "metadata": {},
   "source": [
    "### 5. Strings\n",
    "\n",
    "              i) Strings are ordered, immutable or cannot change collection data type used for text representation.\n",
    "\n",
    "\n",
    "### Inbuilt Functions\n",
    "\n",
    "               -> .isalnum()\n",
    "               -> .isupper()\n",
    "               -> .islower()\n",
    "               -> .endswith()\n",
    "               -> .startswith()\n",
    "               -> .finds()\n",
    "               -> .count()\n",
    "               -> .replace()\n",
    "               -> .split()\n",
    "               -> ' '.join()"
   ]
  },
  {
   "cell_type": "code",
   "execution_count": 29,
   "metadata": {},
   "outputs": [
    {
     "name": "stdout",
     "output_type": "stream",
     "text": [
      "Hello World\n"
     ]
    }
   ],
   "source": [
    "my_string = \"Hello World\"\n",
    "print(my_string)"
   ]
  },
  {
   "cell_type": "code",
   "execution_count": 30,
   "metadata": {},
   "outputs": [
    {
     "name": "stdout",
     "output_type": "stream",
     "text": [
      "Hello welcome to \n",
      "manideep's world\n"
     ]
    }
   ],
   "source": [
    "### triple codes is used to print statement in multiple lines\n",
    "my_str = \"\"\"Hello welcome to \n",
    "manideep's world\"\"\"\n",
    "\n",
    "print(my_str)"
   ]
  },
  {
   "cell_type": "code",
   "execution_count": 31,
   "metadata": {},
   "outputs": [
    {
     "name": "stdout",
     "output_type": "stream",
     "text": [
      "hello world\n",
      "dlrow olleh\n",
      "h\n",
      "e\n",
      "l\n",
      "l\n",
      "o\n",
      " \n",
      "w\n",
      "o\n",
      "r\n",
      "l\n",
      "d\n"
     ]
    }
   ],
   "source": [
    "### Accessing characters \n",
    "\n",
    "my_strin = \"hello world\"\n",
    "char = my_strin[0:]\n",
    "\n",
    "### indexing\n",
    "char1= my_strin[::-1]\n",
    "print(char)\n",
    "print(char1)\n",
    "\n",
    "### for loop\n",
    "for i in my_strin:\n",
    "    print(i)"
   ]
  },
  {
   "cell_type": "code",
   "execution_count": 32,
   "metadata": {},
   "outputs": [
    {
     "name": "stdout",
     "output_type": "stream",
     "text": [
      "HELLO WORLD MANI\n",
      "hello world mani\n"
     ]
    }
   ],
   "source": [
    "### .upper() method and .lower() method\n",
    "\n",
    "my_string1= 'hello world mani'\n",
    "print(my_string1.upper())\n",
    "\n",
    "print(my_string1.lower())\n"
   ]
  },
  {
   "cell_type": "code",
   "execution_count": 33,
   "metadata": {},
   "outputs": [
    {
     "name": "stdout",
     "output_type": "stream",
     "text": [
      "False\n",
      "True\n"
     ]
    }
   ],
   "source": [
    "### .endswith() method and .startswith() method\n",
    "\n",
    "print(my_string1.endswith('hellomani'))\n",
    "print(my_string1.endswith('hello world mani'))"
   ]
  },
  {
   "cell_type": "code",
   "execution_count": 34,
   "metadata": {},
   "outputs": [
    {
     "name": "stdout",
     "output_type": "stream",
     "text": [
      "hello universe mani\n"
     ]
    }
   ],
   "source": [
    "### .replace() is used to replace the words\n",
    "\n",
    "print(my_string1.replace('world', 'universe'))"
   ]
  },
  {
   "cell_type": "code",
   "execution_count": 35,
   "metadata": {},
   "outputs": [
    {
     "name": "stdout",
     "output_type": "stream",
     "text": [
      "['Hi', 'world', 'boss', 'is', 'mani']\n"
     ]
    }
   ],
   "source": [
    "### .split()\n",
    "\n",
    "my_string4 = 'Hi world boss is mani'\n",
    "my_list = my_string4.split()\n",
    "print(my_list)"
   ]
  },
  {
   "cell_type": "code",
   "execution_count": 36,
   "metadata": {},
   "outputs": [
    {
     "name": "stdout",
     "output_type": "stream",
     "text": [
      "Hi world boss is mani\n"
     ]
    }
   ],
   "source": [
    "### ''.join() puts all the elements together in the string\n",
    "\n",
    "new_string =' '.join(my_list)\n",
    "print(new_string)"
   ]
  },
  {
   "cell_type": "code",
   "execution_count": 37,
   "metadata": {},
   "outputs": [
    {
     "name": "stdout",
     "output_type": "stream",
     "text": [
      "['a', 'a', 'a', 'a', 'a', 'a', 'a', 'a', 'a', 'a']\n"
     ]
    }
   ],
   "source": [
    "my_list = ['a'] * 10\n",
    "print(my_list)"
   ]
  },
  {
   "cell_type": "code",
   "execution_count": 38,
   "metadata": {},
   "outputs": [
    {
     "name": "stdout",
     "output_type": "stream",
     "text": [
      "aaaaaaaaaa\n"
     ]
    }
   ],
   "source": [
    "my_string =''.join(my_list)\n",
    "print(my_string)"
   ]
  },
  {
   "cell_type": "markdown",
   "metadata": {},
   "source": [
    "### 6.Collections\n",
    "\n",
    "                 i)collection in python are containers which is used to store collections of data.\n",
    "                ii)for example list, dict, set, tuple etc\n",
    "               iii)collections are built-in functions\n",
    "                iv)collections module was introduced to improve the functionalities.\n",
    "                \n",
    "                \n",
    "### Inbuilt Functions\n",
    "\n",
    "                -> Counter\n",
    "                -> Namedtuple\n",
    "                -> Ordereddict\n",
    "                -> Defaultdict\n",
    "                -> Deque"
   ]
  },
  {
   "cell_type": "code",
   "execution_count": 39,
   "metadata": {},
   "outputs": [
    {
     "name": "stdout",
     "output_type": "stream",
     "text": [
      "Counter({'a': 3, 'b': 2, 'c': 2, 'd': 2})\n",
      "dict_keys(['a', 'b', 'c', 'd'])\n",
      "dict_values([3, 2, 2, 2])\n"
     ]
    }
   ],
   "source": [
    "from collections import Counter\n",
    "\n",
    "a = \"aaabbccdd\"\n",
    "my_counter = Counter(a)\n",
    "print(my_counter)\n",
    "\n",
    "### for keys\n",
    "print(my_counter.keys())\n",
    "\n",
    "### for values\n",
    "print(my_counter.values())"
   ]
  },
  {
   "cell_type": "markdown",
   "metadata": {},
   "source": [
    "### Functions\n",
    "\n",
    "             Q) Why functions? \n",
    "             \n",
    "             A) Instead of using the same code again and again for different outputs, So we call functions.\n",
    "             \n",
    "             A function is a block of code which only runs when it is called.\n",
    "             You can pass data, known as parameters, into a function.\n",
    "             A function can return data as a result."
   ]
  },
  {
   "cell_type": "code",
   "execution_count": 40,
   "metadata": {},
   "outputs": [
    {
     "name": "stdout",
     "output_type": "stream",
     "text": [
      "even\n",
      "odd\n"
     ]
    }
   ],
   "source": [
    "### Checking whether x is even or odd\n",
    "\n",
    "def evenodd(x):\n",
    "    if(x% 2 == 0):\n",
    "        print('even') \n",
    "    else:\n",
    "        print('odd')\n",
    "\n",
    "evenodd(4)\n",
    "evenodd(7)"
   ]
  },
  {
   "cell_type": "code",
   "execution_count": 41,
   "metadata": {},
   "outputs": [],
   "source": [
    "### importance of return \n",
    "\n",
    "### return : Return gives something when it is executed\n",
    "\n",
    "def hello_world():\n",
    "    return \"hello welcome\""
   ]
  },
  {
   "cell_type": "code",
   "execution_count": 42,
   "metadata": {},
   "outputs": [
    {
     "data": {
      "text/plain": [
       "'hello welcome'"
      ]
     },
     "execution_count": 42,
     "metadata": {},
     "output_type": "execute_result"
    }
   ],
   "source": [
    "hello_world()"
   ]
  },
  {
   "cell_type": "markdown",
   "metadata": {},
   "source": [
    "### Positional and keyword arguments\n",
    "\n",
    "               i) Non-Keyword arguments : In python it is called *args can be really useful, because it allows you to pass a \n",
    "                                          varying number of positional arguments.\n",
    "                \n",
    "             \n",
    "               ii) Keyword arguments     : In python it is called *kwargs \n",
    "               \n",
    "               Both *args and **kwargs are used to seperate the data which are keyword arguments(**kwargs) and Non- Keyword\n",
    "               arguments (*args)\n",
    "               "
   ]
  },
  {
   "cell_type": "code",
   "execution_count": 43,
   "metadata": {},
   "outputs": [
    {
     "name": "stdout",
     "output_type": "stream",
     "text": [
      "28\n"
     ]
    }
   ],
   "source": [
    "### Non-Keyword arguments\n",
    "\n",
    "# sum_integers.py\n",
    "def my_sum(*integers):\n",
    "    result = 0\n",
    "    for x in integers:\n",
    "        result += x\n",
    "    return result\n",
    "\n",
    "print(my_sum(1,2,3,4,5,6,7))"
   ]
  },
  {
   "cell_type": "code",
   "execution_count": 44,
   "metadata": {},
   "outputs": [],
   "source": [
    "def hello(*args, **kwargs):\n",
    "    print(args)\n",
    "    print(kwargs)"
   ]
  },
  {
   "cell_type": "code",
   "execution_count": 45,
   "metadata": {},
   "outputs": [
    {
     "name": "stdout",
     "output_type": "stream",
     "text": [
      "('Mani', 'deep')\n",
      "{'age': 24}\n",
      "('boss', ' CEO')\n",
      "{'age': 28}\n"
     ]
    }
   ],
   "source": [
    "# arguments (*args) are lists\n",
    "# Key-word arguments (**kwargs) are dictionaries\n",
    "\n",
    "# so here list is manideep and Dictionaries are age\n",
    "hello(\"Mani\", \"deep\", age = 24)\n",
    "\n",
    "# so here list is boss, CEO and Dictionaries are age\n",
    "hello(\"boss\",\" CEO\" , age = 28)"
   ]
  },
  {
   "cell_type": "markdown",
   "metadata": {},
   "source": [
    "### Lambda Functions\n",
    "\n",
    "            i) It is also called as anonymous function or a function with no name.\n",
    "           ii) Gets helpful when used inside a function.\n",
    "          iii) A lambda function can take any number of arguments, but can only have one expression."
   ]
  },
  {
   "cell_type": "code",
   "execution_count": 46,
   "metadata": {},
   "outputs": [
    {
     "data": {
      "text/plain": [
       "7"
      ]
     },
     "execution_count": 46,
     "metadata": {},
     "output_type": "execute_result"
    }
   ],
   "source": [
    "### Normal Function \n",
    "\n",
    "def add(x, y, z):\n",
    "    return x+y+z\n",
    "\n",
    "add(1,2,4)"
   ]
  },
  {
   "cell_type": "code",
   "execution_count": 47,
   "metadata": {},
   "outputs": [
    {
     "data": {
      "text/plain": [
       "7"
      ]
     },
     "execution_count": 47,
     "metadata": {},
     "output_type": "execute_result"
    }
   ],
   "source": [
    "### Lambda Function\n",
    "add = lambda x,y,z: x+y+z\n",
    "add(1,2,4)"
   ]
  },
  {
   "cell_type": "code",
   "execution_count": 48,
   "metadata": {},
   "outputs": [
    {
     "data": {
      "text/plain": [
       "6"
      ]
     },
     "execution_count": 48,
     "metadata": {},
     "output_type": "execute_result"
    }
   ],
   "source": [
    "Mul = lambda x,y,z:x*y*z\n",
    "Mul(1,2,3)"
   ]
  },
  {
   "cell_type": "code",
   "execution_count": 49,
   "metadata": {},
   "outputs": [
    {
     "name": "stdout",
     "output_type": "stream",
     "text": [
      "50\n"
     ]
    }
   ],
   "source": [
    "x = lambda a : a + 10\n",
    "print(x(40))"
   ]
  },
  {
   "cell_type": "markdown",
   "metadata": {},
   "source": [
    "### Map Function\n",
    "\n",
    "            i) map() function returns a map object(which is an iterator) of the results after applying the given function to \n",
    "               each item of a given iterable (list, tuple etc.)\n",
    "           ii) Syantax = map(fun, iter)\n",
    "          iii) In map function 1st parameter will be function name 2nd parameter will be iterator."
   ]
  },
  {
   "cell_type": "code",
   "execution_count": 50,
   "metadata": {},
   "outputs": [
    {
     "data": {
      "text/plain": [
       "'The number 15 is odd'"
      ]
     },
     "execution_count": 50,
     "metadata": {},
     "output_type": "execute_result"
    }
   ],
   "source": [
    "### Even or odd\n",
    "\n",
    "def even_or_odd(num):\n",
    "    if num%2==0:\n",
    "        return \"The number {} is even\".format(num)\n",
    "    else:\n",
    "        return \"The number {} is odd\".format(num)\n",
    "    \n",
    "even_or_odd(15)"
   ]
  },
  {
   "cell_type": "code",
   "execution_count": 51,
   "metadata": {},
   "outputs": [
    {
     "data": {
      "text/plain": [
       "'The number 4 is even'"
      ]
     },
     "execution_count": 51,
     "metadata": {},
     "output_type": "execute_result"
    }
   ],
   "source": [
    "even_or_odd(4)"
   ]
  },
  {
   "cell_type": "code",
   "execution_count": 52,
   "metadata": {},
   "outputs": [],
   "source": [
    "### how  to find list of numbers?\n",
    "\n",
    "list = [1,2,3,4,5,6,7,8,9,10,11,12,13,14]"
   ]
  },
  {
   "cell_type": "code",
   "execution_count": 53,
   "metadata": {},
   "outputs": [
    {
     "data": {
      "text/plain": [
       "<map at 0x26dbf57ae08>"
      ]
     },
     "execution_count": 53,
     "metadata": {},
     "output_type": "execute_result"
    }
   ],
   "source": [
    "### here map() function come into picture\n",
    "map(even_or_odd, list)"
   ]
  },
  {
   "cell_type": "code",
   "execution_count": 54,
   "metadata": {},
   "outputs": [],
   "source": [
    "### you need to use set instead of list\n",
    "m = set(map(even_or_odd,list))"
   ]
  },
  {
   "cell_type": "code",
   "execution_count": 55,
   "metadata": {},
   "outputs": [
    {
     "name": "stdout",
     "output_type": "stream",
     "text": [
      "{'The number 5 is odd', 'The number 1 is odd', 'The number 12 is even', 'The number 4 is even', 'The number 7 is odd', 'The number 3 is odd', 'The number 6 is even', 'The number 2 is even', 'The number 13 is odd', 'The number 9 is odd', 'The number 8 is even', 'The number 11 is odd', 'The number 10 is even', 'The number 14 is even'}\n"
     ]
    }
   ],
   "source": [
    "print(m)"
   ]
  },
  {
   "cell_type": "markdown",
   "metadata": {},
   "source": [
    "### Filter Function\n",
    "\n",
    "        i) filter() method filters the given sequence with the help of a function that tests each elements in the sequence to be true or not.\n",
    "       ii)  In filter method 1st parameter will be function name 2nd parameter will be iterator.            "
   ]
  },
  {
   "cell_type": "code",
   "execution_count": 56,
   "metadata": {},
   "outputs": [
    {
     "data": {
      "text/plain": [
       "{2, 4, 6}"
      ]
     },
     "execution_count": 56,
     "metadata": {},
     "output_type": "execute_result"
    }
   ],
   "source": [
    "### you need to use set instead of list \n",
    "def even(num):\n",
    "    if num%2==0:\n",
    "        return 'True'\n",
    "    \n",
    "lst= [1,2,3,4,5,6,7]\n",
    "\n",
    "set(filter(even,lst))\n"
   ]
  },
  {
   "cell_type": "code",
   "execution_count": 57,
   "metadata": {},
   "outputs": [
    {
     "data": {
      "text/plain": [
       "{1, 3, 5, 7, 9, 11, 13}"
      ]
     },
     "execution_count": 57,
     "metadata": {},
     "output_type": "execute_result"
    }
   ],
   "source": [
    "def odd(num):\n",
    "    if num%2!=0:\n",
    "        return 'True'\n",
    "\n",
    "lst1 = [1,2,3,4,5,6,7,8,9,10,11,12,13,14]\n",
    "\n",
    "set(filter(odd,lst1))"
   ]
  },
  {
   "cell_type": "code",
   "execution_count": 58,
   "metadata": {},
   "outputs": [
    {
     "data": {
      "text/plain": [
       "{2, 4, 6}"
      ]
     },
     "execution_count": 58,
     "metadata": {},
     "output_type": "execute_result"
    }
   ],
   "source": [
    "### Using Filter and Lambda Function\n",
    "\n",
    "set(filter(lambda num: num%2==0, lst))"
   ]
  },
  {
   "cell_type": "code",
   "execution_count": 59,
   "metadata": {},
   "outputs": [
    {
     "data": {
      "text/plain": [
       "{1, 3, 5, 7, 9, 11, 13}"
      ]
     },
     "execution_count": 59,
     "metadata": {},
     "output_type": "execute_result"
    }
   ],
   "source": [
    "### Filter function will show only correct values which are present in the list \n",
    "\n",
    "set(filter(lambda num: num%2!=0, lst1))"
   ]
  },
  {
   "cell_type": "code",
   "execution_count": 60,
   "metadata": {},
   "outputs": [
    {
     "data": {
      "text/plain": [
       "{False, True}"
      ]
     },
     "execution_count": 60,
     "metadata": {},
     "output_type": "execute_result"
    }
   ],
   "source": [
    "### map function will show false for values that are not present and true for the values which are present\n",
    "# where even = true, odd = false\n",
    "\n",
    "set(map(lambda num:num%2==0, lst1))"
   ]
  },
  {
   "cell_type": "markdown",
   "metadata": {},
   "source": [
    "### Iterable vs Iterators"
   ]
  },
  {
   "cell_type": "code",
   "execution_count": 61,
   "metadata": {},
   "outputs": [
    {
     "name": "stdout",
     "output_type": "stream",
     "text": [
      "1\n",
      "2\n",
      "3\n",
      "4\n",
      "5\n",
      "6\n",
      "7\n"
     ]
    }
   ],
   "source": [
    "lst = [1,2,3,4,5,6,7]\n",
    "for i in lst:\n",
    "    print(i)"
   ]
  },
  {
   "cell_type": "code",
   "execution_count": 62,
   "metadata": {},
   "outputs": [],
   "source": [
    "### . iter() is in-built function which converts list into iterators\n",
    "lst1=iter(lst)"
   ]
  },
  {
   "cell_type": "code",
   "execution_count": 63,
   "metadata": {},
   "outputs": [
    {
     "data": {
      "text/plain": [
       "<list_iterator at 0x26dbf592bc8>"
      ]
     },
     "execution_count": 63,
     "metadata": {},
     "output_type": "execute_result"
    }
   ],
   "source": [
    "lst1"
   ]
  },
  {
   "cell_type": "code",
   "execution_count": 64,
   "metadata": {},
   "outputs": [
    {
     "data": {
      "text/plain": [
       "1"
      ]
     },
     "execution_count": 64,
     "metadata": {},
     "output_type": "execute_result"
    }
   ],
   "source": [
    "### next is imprtant in iterators where it cannot be done without next\n",
    "# It will hit one by one when we use next function and run\n",
    "# so it stops iteration  at 7 because In this code lst contains 1 to 7 \n",
    "next(lst1)"
   ]
  },
  {
   "cell_type": "code",
   "execution_count": 65,
   "metadata": {},
   "outputs": [
    {
     "data": {
      "text/plain": [
       "2"
      ]
     },
     "execution_count": 65,
     "metadata": {},
     "output_type": "execute_result"
    }
   ],
   "source": [
    "next(lst1)"
   ]
  },
  {
   "cell_type": "code",
   "execution_count": null,
   "metadata": {},
   "outputs": [],
   "source": []
  }
 ],
 "metadata": {
  "kernelspec": {
   "display_name": "Python 3",
   "language": "python",
   "name": "python3"
  },
  "language_info": {
   "codemirror_mode": {
    "name": "ipython",
    "version": 3
   },
   "file_extension": ".py",
   "mimetype": "text/x-python",
   "name": "python",
   "nbconvert_exporter": "python",
   "pygments_lexer": "ipython3",
   "version": "3.7.6"
  }
 },
 "nbformat": 4,
 "nbformat_minor": 4
}
